{
  "metadata": {
    "language_info": {
      "codemirror_mode": {
        "name": "python",
        "version": 3
      },
      "file_extension": ".py",
      "mimetype": "text/x-python",
      "name": "python",
      "nbconvert_exporter": "python",
      "pygments_lexer": "ipython3",
      "version": "3.8"
    },
    "kernelspec": {
      "name": "python",
      "display_name": "Python (Pyodide)",
      "language": "python"
    }
  },
  "nbformat_minor": 4,
  "nbformat": 4,
  "cells": [
    {
      "cell_type": "code",
      "source": "polygon1 = [[' ', ' ', ' ', ' ', ' ', '/', '\\\\', ' ', ' ', ' ', ' ', ' ', ' ', ' ', ' ', ' ', ' ', ' '],\n           [' ', ' ', ' ', ' ', '/', ' ', ' ', '\\\\', ' ', ' ', ' ', ' ', '/', '\\\\', ' ', ' ', ' ', ' '],\n           [' ', ' ', ' ', '/',  ' ', ' ', ' ', ' ', '\\\\',  ' ', ' ', '/',  ' ', ' ', '\\\\',  ' ', ' ', ' '],\n           [' ', ' ', '/',  ' ', ' ', ' ', ' ', ' ', '/', ' ', '/',  ' ', ' ', ' ', ' ', '\\\\',  ' ', ' '],\n           [' ', '/',  ' ', ' ', ' ', ' ', ' ', ' ', '\\\\', '/', ' ', ' ', ' ', ' ', ' ', '/', ' ', ' '],\n           [' ', '\\\\', ' ', ' ', ' ', ' ', ' ', ' ', ' ', ' ', ' ', ' ', ' ', ' ', '/',  ' ', ' ', ' '],\n           [' ', ' ', '\\\\', ' ', ' ', ' ', ' ', ' ', ' ', ' ', ' ', ' ', ' ', '/', ' ', ' ', ' ', ' '],\n           [' ', ' ', ' ', '\\\\', ' ', ' ', ' ', ' ', '/', '\\\\', ' ', ' ', '/', ' ', ' ', ' ', ' ', ' '],\n           [' ', ' ', ' ', ' ', '\\\\', ' ', ' ', '/', ' ', ' ', '\\\\', '/', ' ', ' ', ' ', ' ', ' ', ' '],\n           [' ', ' ', ' ', ' ', ' ', '\\\\', '/', ' ', ' ', ' ', ' ', ' ', ' ', ' ', ' ', ' ', ' ', ' ']]",
      "metadata": {
        "trusted": true
      },
      "execution_count": 36,
      "outputs": []
    },
    {
      "cell_type": "code",
      "source": "polygon2 = [[' ', ' ', ' ', ' ', ' ', '/', '\\\\', ' ', ' ', ' ', ' ', ' ', ' ', ' ', ' ', ' ', ' ', ' '],\n           [' ', ' ', ' ', ' ', '/', ' ', ' ', '\\\\', ' ', ' ', ' ', ' ', '/', '\\\\', ' ', ' ', ' ', ' '],\n           [' ', ' ', ' ', '/',  ' ', ' ', ' ', ' ', '\\\\',  ' ', ' ', '/',  ' ', ' ', '\\\\',  ' ', ' ', ' '],\n           [' ', ' ', '/',  ' ', ' ', ' ', ' ', ' ', '/', ' ', '/',  ' ', ' ', ' ', ' ', '\\\\',  ' ', ' '],\n           [' ', '/',  ' ', ' ', ' ', ' ', ' ', ' ', '\\\\', '/', ' ', ' ', ' ', ' ', ' ', '/', ' ', ' '],\n           ['\\\\', ' ', ' ', ' ', ' ', ' ', ' ', ' ', ' ', ' ', ' ', ' ', ' ', ' ', '/',  ' ', ' ', ' '],\n           [' ', '\\\\', ' ', ' ', ' ', ' ', ' ', ' ', ' ', ' ', ' ', ' ', '/', ' ', ' ', ' ', ' ', ' '],\n           [' ', ' ', '\\\\', ' ', ' ', ' ', ' ', '/', '\\\\', ' ', ' ', '/', ' ', ' ', ' ', ' ', ' ', ' '],\n           [' ', ' ', ' ', '\\\\', ' ', ' ', '/', ' ', ' ', '\\\\', '/', ' ', ' ', ' ', ' ', ' ', ' ', ' '],\n           [' ', ' ', ' ', ' ', '\\\\', ' ', '/', ' ', ' ', ' ', ' ', ' ', ' ', ' ', ' ', ' ', ' ', ' '],\n           [' ', ' ', ' ', ' ', ' ', '\\\\', '/', ' ', ' ', ' ', ' ', ' ', ' ', ' ', ' ', ' ', ' ', ' ']]",
      "metadata": {
        "trusted": true
      },
      "execution_count": 37,
      "outputs": []
    },
    {
      "cell_type": "code",
      "source": "polygon3 = [[' ', ' ', '/', '\\\\', ' ', ' '],\n            [' ', '\\\\', ' ', '/', ' ', ' '],\n            [' ', '/', ' ', ' ', '/', ' '],\n            ['/', ' ', ' ', ' ', '/', ' '],\n            [' ', '\\\\', ' ', ' ', '\\\\', ' '],\n            [' ', '/', ' ', '\\\\', ' ', ' '],\n            [' ', ' ', '\\\\', '\\\\', ' ', ' ']]",
      "metadata": {
        "trusted": true
      },
      "execution_count": 38,
      "outputs": []
    },
    {
      "cell_type": "code",
      "source": "def calculate_area(polygon):\n    polygon_area = 0\n    flag = False\n    num_of_slashes_backslashes = 0\n    for i in range(len(polygon)):\n        for j in range(len(polygon[i])):\n            if polygon[i][j] == '/' or polygon[i][j] == '\\\\':\n                polygon_area += 0.5\n                num_of_slashes_backslashes += 1\n                flag = False if num_of_slashes_backslashes % 2 == 0 else True\n            elif polygon[i][j] == ' ':\n                if flag:\n                    polygon_area += 1\n    return polygon_area",
      "metadata": {
        "trusted": true
      },
      "execution_count": 39,
      "outputs": []
    },
    {
      "cell_type": "code",
      "source": "calculate_polygon_area(polygon1)",
      "metadata": {
        "trusted": true
      },
      "execution_count": 40,
      "outputs": [
        {
          "execution_count": 40,
          "output_type": "execute_result",
          "data": {
            "text/plain": "74.0"
          },
          "metadata": {}
        }
      ]
    },
    {
      "cell_type": "code",
      "source": "calculate_polygon_area(polygon2)",
      "metadata": {
        "trusted": true
      },
      "execution_count": 41,
      "outputs": [
        {
          "execution_count": 41,
          "output_type": "execute_result",
          "data": {
            "text/plain": "77.0"
          },
          "metadata": {}
        }
      ]
    },
    {
      "cell_type": "code",
      "source": "calculate_polygon_area(polygon3)",
      "metadata": {
        "trusted": true
      },
      "execution_count": 42,
      "outputs": [
        {
          "execution_count": 42,
          "output_type": "execute_result",
          "data": {
            "text/plain": "16.0"
          },
          "metadata": {}
        }
      ]
    }
  ]
}